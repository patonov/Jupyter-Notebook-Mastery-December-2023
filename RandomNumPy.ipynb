{
 "cells": [
  {
   "cell_type": "code",
   "execution_count": 1,
   "id": "81419e47-7979-459a-a53d-2f4c16c6aa0c",
   "metadata": {},
   "outputs": [],
   "source": [
    "import numpy as np"
   ]
  },
  {
   "cell_type": "code",
   "execution_count": 3,
   "id": "79d5dc45-42da-4978-a8f7-591e7b0af26a",
   "metadata": {},
   "outputs": [
    {
     "name": "stdout",
     "output_type": "stream",
     "text": [
      "6\n"
     ]
    }
   ],
   "source": [
    "num = np.random.randint(10)\n",
    "print(num)"
   ]
  },
  {
   "cell_type": "code",
   "execution_count": 4,
   "id": "e9d478c4-71fe-48f7-a8e3-5af6a23cfecf",
   "metadata": {},
   "outputs": [
    {
     "name": "stdout",
     "output_type": "stream",
     "text": [
      "[[0.75306528 0.83431159 0.28446006]\n",
      " [0.20033861 0.99404688 0.74400162]\n",
      " [0.80808233 0.54463896 0.96241992]]\n"
     ]
    }
   ],
   "source": [
    "array = np.random.rand(3, 3)\n",
    "print(array)"
   ]
  },
  {
   "cell_type": "code",
   "execution_count": 10,
   "id": "e4109145-11bd-47d5-b64c-7d043e403c71",
   "metadata": {},
   "outputs": [
    {
     "name": "stdout",
     "output_type": "stream",
     "text": [
      "0.5502139034835488\n"
     ]
    }
   ],
   "source": [
    "n = np.random.random_sample(size=None)\n",
    "print(n)"
   ]
  },
  {
   "cell_type": "code",
   "execution_count": 12,
   "id": "83eba37b-ab4d-4525-a190-fd6af37c0e4e",
   "metadata": {},
   "outputs": [
    {
     "name": "stdout",
     "output_type": "stream",
     "text": [
      "[0.23538851 0.40710209]\n"
     ]
    }
   ],
   "source": [
    "n = np.random.random_sample(size=2)\n",
    "print(n)"
   ]
  },
  {
   "cell_type": "code",
   "execution_count": null,
   "id": "f27222ea-0b36-4c4d-9cf2-f2ac59e81a39",
   "metadata": {},
   "outputs": [],
   "source": []
  }
 ],
 "metadata": {
  "kernelspec": {
   "display_name": "Python 3 (ipykernel)",
   "language": "python",
   "name": "python3"
  },
  "language_info": {
   "codemirror_mode": {
    "name": "ipython",
    "version": 3
   },
   "file_extension": ".py",
   "mimetype": "text/x-python",
   "name": "python",
   "nbconvert_exporter": "python",
   "pygments_lexer": "ipython3",
   "version": "3.12.1"
  }
 },
 "nbformat": 4,
 "nbformat_minor": 5
}
