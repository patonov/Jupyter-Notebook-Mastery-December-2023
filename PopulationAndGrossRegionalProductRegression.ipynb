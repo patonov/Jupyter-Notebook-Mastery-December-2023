{
 "cells": [
  {
   "cell_type": "code",
   "execution_count": 1,
   "id": "d511f62d-25e6-4d00-bb0f-6ff308276f7d",
   "metadata": {},
   "outputs": [],
   "source": [
    "import numpy as np\n",
    "import pandas as pd\n",
    "import matplotlib.pyplot as plt\n",
    "import seaborn as sns\n",
    "%matplotlib inline"
   ]
  },
  {
   "cell_type": "code",
   "execution_count": 2,
   "id": "bf47899f-3ed5-4e0f-b299-fe7e4cb16bb1",
   "metadata": {},
   "outputs": [],
   "source": [
    "df = pd.read_csv('./input/DOSE_V2.csv', encoding='latin-1')"
   ]
  },
  {
   "cell_type": "code",
   "execution_count": 3,
   "id": "eea50531-6d55-4cca-a58d-6e85bdc34693",
   "metadata": {},
   "outputs": [
    {
     "name": "stdout",
     "output_type": "stream",
     "text": [
      "<class 'pandas.core.frame.DataFrame'>\n",
      "RangeIndex: 46797 entries, 0 to 46796\n",
      "Data columns (total 35 columns):\n",
      " #   Column                   Non-Null Count  Dtype  \n",
      "---  ------                   --------------  -----  \n",
      " 0   ï»¿country               46797 non-null  object \n",
      " 1   region                   46732 non-null  object \n",
      " 2   GID_0                    46797 non-null  object \n",
      " 3   GID_1                    46758 non-null  object \n",
      " 4   year                     46797 non-null  int64  \n",
      " 5   grp_lcu                  44109 non-null  float64\n",
      " 6   pop                      44457 non-null  float64\n",
      " 7   grp_pc_lcu               46443 non-null  float64\n",
      " 8   ag_grp_pc_lcu            34965 non-null  float64\n",
      " 9   man_grp_pc_lcu           34991 non-null  float64\n",
      " 10  serv_grp_pc_lcu          34983 non-null  float64\n",
      " 11  grp_pc_usd               46797 non-null  float64\n",
      " 12  ag_grp_pc_usd            35260 non-null  float64\n",
      " 13  man_grp_pc_usd           35286 non-null  float64\n",
      " 14  serv_grp_pc_usd          35278 non-null  float64\n",
      " 15  grp_pc_lcu_2015          46212 non-null  float64\n",
      " 16  ag_grp_pc_lcu_2015       34809 non-null  float64\n",
      " 17  man_grp_pc_lcu_2015      34835 non-null  float64\n",
      " 18  serv_grp_pc_lcu_2015     34827 non-null  float64\n",
      " 19  grp_pc_usd_2015          46789 non-null  float64\n",
      " 20  ag_grp_pc_usd_2015       35260 non-null  float64\n",
      " 21  man_grp_pc_usd_2015      35286 non-null  float64\n",
      " 22  serv_grp_pc_usd_2015     35278 non-null  float64\n",
      " 23  grp_pc_lcu2015_usd       44446 non-null  float64\n",
      " 24  ag_grp_pc_lcu2015_usd    34028 non-null  float64\n",
      " 25  man_grp_pc_lcu2015_usd   34054 non-null  float64\n",
      " 26  serv_grp_pc_lcu2015_usd  34046 non-null  float64\n",
      " 27  cpi_2015                 46725 non-null  float64\n",
      " 28  deflator_2015            46566 non-null  float64\n",
      " 29  fx                       46443 non-null  float64\n",
      " 30  PPP                      36347 non-null  float64\n",
      " 31  StructChange             46797 non-null  int64  \n",
      " 32  version                  46797 non-null  float64\n",
      " 33  T_a                      39439 non-null  float64\n",
      " 34  P_a                      39439 non-null  float64\n",
      "dtypes: float64(29), int64(2), object(4)\n",
      "memory usage: 12.5+ MB\n"
     ]
    }
   ],
   "source": [
    "df.info()"
   ]
  },
  {
   "cell_type": "code",
   "execution_count": 4,
   "id": "3f982b8e-8fe4-484b-ae1a-4e4779311cb2",
   "metadata": {},
   "outputs": [],
   "source": [
    "df.columns = df.columns.str.strip()\n",
    "df.columns = df.columns.str.replace(\" \", \"_\")"
   ]
  },
  {
   "cell_type": "code",
   "execution_count": 5,
   "id": "d67c477a-4378-4edb-86b1-52e017c0bab5",
   "metadata": {},
   "outputs": [
    {
     "data": {
      "text/plain": [
       "Index(['ï»¿country', 'region', 'GID_0', 'GID_1', 'year', 'grp_lcu', 'pop',\n",
       "       'grp_pc_lcu', 'ag_grp_pc_lcu', 'man_grp_pc_lcu', 'serv_grp_pc_lcu',\n",
       "       'grp_pc_usd', 'ag_grp_pc_usd', 'man_grp_pc_usd', 'serv_grp_pc_usd',\n",
       "       'grp_pc_lcu_2015', 'ag_grp_pc_lcu_2015', 'man_grp_pc_lcu_2015',\n",
       "       'serv_grp_pc_lcu_2015', 'grp_pc_usd_2015', 'ag_grp_pc_usd_2015',\n",
       "       'man_grp_pc_usd_2015', 'serv_grp_pc_usd_2015', 'grp_pc_lcu2015_usd',\n",
       "       'ag_grp_pc_lcu2015_usd', 'man_grp_pc_lcu2015_usd',\n",
       "       'serv_grp_pc_lcu2015_usd', 'cpi_2015', 'deflator_2015', 'fx', 'PPP',\n",
       "       'StructChange', 'version', 'T_a', 'P_a'],\n",
       "      dtype='object')"
      ]
     },
     "execution_count": 5,
     "metadata": {},
     "output_type": "execute_result"
    }
   ],
   "source": [
    "df.columns"
   ]
  },
  {
   "cell_type": "code",
   "execution_count": 6,
   "id": "45a444c8-cec7-405a-b707-24a945132819",
   "metadata": {},
   "outputs": [],
   "source": [
    "df.drop(['grp_lcu', 'grp_pc_lcu', 'ag_grp_pc_lcu', 'man_grp_pc_lcu', 'serv_grp_pc_lcu', 'ag_grp_pc_usd', 'man_grp_pc_usd', 'serv_grp_pc_usd',\n",
    "       'grp_pc_lcu_2015', 'ag_grp_pc_lcu_2015', 'man_grp_pc_lcu_2015',\n",
    "       'serv_grp_pc_lcu_2015', 'grp_pc_usd_2015', 'ag_grp_pc_usd_2015',\n",
    "       'man_grp_pc_usd_2015', 'serv_grp_pc_usd_2015', 'grp_pc_lcu2015_usd',\n",
    "       'ag_grp_pc_lcu2015_usd', 'man_grp_pc_lcu2015_usd',\n",
    "       'serv_grp_pc_lcu2015_usd', 'deflator_2015', 'fx', 'PPP',\n",
    "       'StructChange', 'version', 'T_a', 'P_a'], axis=1, inplace=True)"
   ]
  },
  {
   "cell_type": "code",
   "execution_count": 7,
   "id": "99d5f38a-3c69-47d1-ae69-9dae70cae7fd",
   "metadata": {},
   "outputs": [
    {
     "data": {
      "text/plain": [
       "Index(['ï»¿country', 'region', 'GID_0', 'GID_1', 'year', 'pop', 'grp_pc_usd',\n",
       "       'cpi_2015'],\n",
       "      dtype='object')"
      ]
     },
     "execution_count": 7,
     "metadata": {},
     "output_type": "execute_result"
    }
   ],
   "source": [
    "df.columns"
   ]
  },
  {
   "cell_type": "code",
   "execution_count": 8,
   "id": "ba0b1204-9713-4d80-b28d-7f7b1fd972f9",
   "metadata": {},
   "outputs": [
    {
     "data": {
      "text/html": [
       "<div>\n",
       "<style scoped>\n",
       "    .dataframe tbody tr th:only-of-type {\n",
       "        vertical-align: middle;\n",
       "    }\n",
       "\n",
       "    .dataframe tbody tr th {\n",
       "        vertical-align: top;\n",
       "    }\n",
       "\n",
       "    .dataframe thead th {\n",
       "        text-align: right;\n",
       "    }\n",
       "</style>\n",
       "<table border=\"1\" class=\"dataframe\">\n",
       "  <thead>\n",
       "    <tr style=\"text-align: right;\">\n",
       "      <th></th>\n",
       "      <th>year</th>\n",
       "      <th>pop</th>\n",
       "      <th>grp_pc_usd</th>\n",
       "      <th>cpi_2015</th>\n",
       "    </tr>\n",
       "  </thead>\n",
       "  <tbody>\n",
       "    <tr>\n",
       "      <th>count</th>\n",
       "      <td>46797.000000</td>\n",
       "      <td>4.445700e+04</td>\n",
       "      <td>46797.000000</td>\n",
       "      <td>46725.000000</td>\n",
       "    </tr>\n",
       "    <tr>\n",
       "      <th>mean</th>\n",
       "      <td>2000.012693</td>\n",
       "      <td>4.406061e+06</td>\n",
       "      <td>10341.154600</td>\n",
       "      <td>59.336593</td>\n",
       "    </tr>\n",
       "    <tr>\n",
       "      <th>std</th>\n",
       "      <td>14.456309</td>\n",
       "      <td>1.229004e+07</td>\n",
       "      <td>15318.916572</td>\n",
       "      <td>43.185624</td>\n",
       "    </tr>\n",
       "    <tr>\n",
       "      <th>min</th>\n",
       "      <td>1953.000000</td>\n",
       "      <td>1.811000e+03</td>\n",
       "      <td>0.481648</td>\n",
       "      <td>0.426788</td>\n",
       "    </tr>\n",
       "    <tr>\n",
       "      <th>25%</th>\n",
       "      <td>1992.000000</td>\n",
       "      <td>4.062050e+05</td>\n",
       "      <td>1149.878360</td>\n",
       "      <td>19.047580</td>\n",
       "    </tr>\n",
       "    <tr>\n",
       "      <th>50%</th>\n",
       "      <td>2003.000000</td>\n",
       "      <td>1.093247e+06</td>\n",
       "      <td>3745.461407</td>\n",
       "      <td>52.545115</td>\n",
       "    </tr>\n",
       "    <tr>\n",
       "      <th>75%</th>\n",
       "      <td>2012.000000</td>\n",
       "      <td>2.785248e+06</td>\n",
       "      <td>12615.233010</td>\n",
       "      <td>100.000000</td>\n",
       "    </tr>\n",
       "    <tr>\n",
       "      <th>max</th>\n",
       "      <td>2020.000000</td>\n",
       "      <td>2.279430e+08</td>\n",
       "      <td>208930.812200</td>\n",
       "      <td>209.268157</td>\n",
       "    </tr>\n",
       "  </tbody>\n",
       "</table>\n",
       "</div>"
      ],
      "text/plain": [
       "               year           pop     grp_pc_usd      cpi_2015\n",
       "count  46797.000000  4.445700e+04   46797.000000  46725.000000\n",
       "mean    2000.012693  4.406061e+06   10341.154600     59.336593\n",
       "std       14.456309  1.229004e+07   15318.916572     43.185624\n",
       "min     1953.000000  1.811000e+03       0.481648      0.426788\n",
       "25%     1992.000000  4.062050e+05    1149.878360     19.047580\n",
       "50%     2003.000000  1.093247e+06    3745.461407     52.545115\n",
       "75%     2012.000000  2.785248e+06   12615.233010    100.000000\n",
       "max     2020.000000  2.279430e+08  208930.812200    209.268157"
      ]
     },
     "execution_count": 8,
     "metadata": {},
     "output_type": "execute_result"
    }
   ],
   "source": [
    "df.describe()"
   ]
  },
  {
   "cell_type": "code",
   "execution_count": 9,
   "id": "64b2bc39-003a-428d-937e-57d48d92050e",
   "metadata": {},
   "outputs": [],
   "source": [
    "df.drop(['year'], axis=1, inplace=True)"
   ]
  },
  {
   "cell_type": "code",
   "execution_count": 10,
   "id": "de77db4e-87dd-4d42-bdf6-209d9541bc05",
   "metadata": {},
   "outputs": [
    {
     "data": {
      "text/plain": [
       "Index(['ï»¿country', 'region', 'GID_0', 'GID_1', 'pop', 'grp_pc_usd',\n",
       "       'cpi_2015'],\n",
       "      dtype='object')"
      ]
     },
     "execution_count": 10,
     "metadata": {},
     "output_type": "execute_result"
    }
   ],
   "source": [
    "df.columns"
   ]
  },
  {
   "cell_type": "code",
   "execution_count": 12,
   "id": "1fbaabdf-3552-43d5-8cd6-4c24f156549e",
   "metadata": {},
   "outputs": [
    {
     "data": {
      "text/html": [
       "<div>\n",
       "<style scoped>\n",
       "    .dataframe tbody tr th:only-of-type {\n",
       "        vertical-align: middle;\n",
       "    }\n",
       "\n",
       "    .dataframe tbody tr th {\n",
       "        vertical-align: top;\n",
       "    }\n",
       "\n",
       "    .dataframe thead th {\n",
       "        text-align: right;\n",
       "    }\n",
       "</style>\n",
       "<table border=\"1\" class=\"dataframe\">\n",
       "  <thead>\n",
       "    <tr style=\"text-align: right;\">\n",
       "      <th></th>\n",
       "      <th>pop</th>\n",
       "      <th>grp_pc_usd</th>\n",
       "      <th>cpi_2015</th>\n",
       "    </tr>\n",
       "  </thead>\n",
       "  <tbody>\n",
       "    <tr>\n",
       "      <th>pop</th>\n",
       "      <td>1.000000</td>\n",
       "      <td>-0.076497</td>\n",
       "      <td>-0.102024</td>\n",
       "    </tr>\n",
       "    <tr>\n",
       "      <th>grp_pc_usd</th>\n",
       "      <td>-0.076497</td>\n",
       "      <td>1.000000</td>\n",
       "      <td>0.412538</td>\n",
       "    </tr>\n",
       "    <tr>\n",
       "      <th>cpi_2015</th>\n",
       "      <td>-0.102024</td>\n",
       "      <td>0.412538</td>\n",
       "      <td>1.000000</td>\n",
       "    </tr>\n",
       "  </tbody>\n",
       "</table>\n",
       "</div>"
      ],
      "text/plain": [
       "                 pop  grp_pc_usd  cpi_2015\n",
       "pop         1.000000   -0.076497 -0.102024\n",
       "grp_pc_usd -0.076497    1.000000  0.412538\n",
       "cpi_2015   -0.102024    0.412538  1.000000"
      ]
     },
     "execution_count": 12,
     "metadata": {},
     "output_type": "execute_result"
    }
   ],
   "source": [
    "df.drop(['ï»¿country', 'region', 'GID_0', 'GID_1'], axis=1, inplace=True)\n",
    "corr_matrix = df.corr()\n",
    "corr_matrix"
   ]
  },
  {
   "cell_type": "code",
   "execution_count": 13,
   "id": "43831c06-25b2-4a32-bc80-d467f161a452",
   "metadata": {},
   "outputs": [
    {
     "data": {
      "image/png": "[encoded data removed]",
      "text/plain": [
       "<Figure size 640x480 with 2 Axes>"
      ]
     },
     "metadata": {},
     "output_type": "display_data"
    }
   ],
   "source": [
    "sns.heatmap(corr_matrix)\n",
    "plt.show()"
   ]
  },
  {
   "cell_type": "code",
   "execution_count": 14,
   "id": "cf994fb1-1757-42e2-916d-0d07226988d4",
   "metadata": {},
   "outputs": [],
   "source": [
    "x1 = df['pop']\n",
    "x2 = df['cpi_2015']\n",
    "y = df['grp_pc_usd']"
   ]
  },
  {
   "cell_type": "code",
   "execution_count": 16,
   "id": "830ef1bc-1814-44bf-9747-16b101bf261e",
   "metadata": {},
   "outputs": [
    {
     "data": {
      "image/png": "[encoded data removed]",
      "text/plain": [
       "<Figure size 640x480 with 1 Axes>"
      ]
     },
     "metadata": {},
     "output_type": "display_data"
    }
   ],
   "source": [
    "plt.scatter(x1,y)\n",
    "plt.xlabel('Regional Population', fontsize=20)\n",
    "plt.ylabel('Gross Regional Product', fontsize=20)\n",
    "plt.show()"
   ]
  },
  {
   "cell_type": "code",
   "execution_count": 17,
   "id": "c2949c5c-46bc-4560-98cc-aff89f1757c0",
   "metadata": {},
   "outputs": [],
   "source": [
    "import statsmodels.api as sm"
   ]
  },
  {
   "cell_type": "code",
   "execution_count": 22,
   "id": "85c9e99d-1a66-40ba-b9a6-a122489786d9",
   "metadata": {},
   "outputs": [],
   "source": [
    "for col in df.columns:\n",
    "    if df[col].isna().any():\n",
    "        mode = df[col].mode()[0]\n",
    "        df[col] = df[col].fillna(mode)"
   ]
  },
  {
   "cell_type": "code",
   "execution_count": 32,
   "id": "5e9bc3b1-bd8c-409f-8935-1116f4f5323e",
   "metadata": {},
   "outputs": [
    {
     "data": {
      "text/html": [
       "<table class=\"simpletable\">\n",
       "<caption>OLS Regression Results</caption>\n",
       "<tr>\n",
       "  <th>Dep. Variable:</th>       <td>grp_pc_usd</td>    <th>  R-squared:         </th>  <td>   0.005</td>  \n",
       "</tr>\n",
       "<tr>\n",
       "  <th>Model:</th>                   <td>OLS</td>       <th>  Adj. R-squared:    </th>  <td>   0.005</td>  \n",
       "</tr>\n",
       "<tr>\n",
       "  <th>Method:</th>             <td>Least Squares</td>  <th>  F-statistic:       </th>  <td>   228.4</td>  \n",
       "</tr>\n",
       "<tr>\n",
       "  <th>Date:</th>             <td>Wed, 07 Feb 2024</td> <th>  Prob (F-statistic):</th>  <td>1.80e-51</td>  \n",
       "</tr>\n",
       "<tr>\n",
       "  <th>Time:</th>                 <td>16:59:23</td>     <th>  Log-Likelihood:    </th> <td>-5.1726e+05</td>\n",
       "</tr>\n",
       "<tr>\n",
       "  <th>No. Observations:</th>      <td> 46797</td>      <th>  AIC:               </th>  <td>1.035e+06</td> \n",
       "</tr>\n",
       "<tr>\n",
       "  <th>Df Residuals:</th>          <td> 46795</td>      <th>  BIC:               </th>  <td>1.035e+06</td> \n",
       "</tr>\n",
       "<tr>\n",
       "  <th>Df Model:</th>              <td>     1</td>      <th>                     </th>      <td> </td>     \n",
       "</tr>\n",
       "<tr>\n",
       "  <th>Covariance Type:</th>      <td>nonrobust</td>    <th>                     </th>      <td> </td>     \n",
       "</tr>\n",
       "</table>\n",
       "<table class=\"simpletable\">\n",
       "<tr>\n",
       "    <td></td>       <th>coef</th>     <th>std err</th>      <th>t</th>      <th>P>|t|</th>  <th>[0.025</th>    <th>0.975]</th>  \n",
       "</tr>\n",
       "<tr>\n",
       "  <th>const</th> <td> 1.071e+04</td> <td>   74.836</td> <td>  143.172</td> <td> 0.000</td> <td> 1.06e+04</td> <td> 1.09e+04</td>\n",
       "</tr>\n",
       "<tr>\n",
       "  <th>pop</th>   <td>-8.887e-05</td> <td> 5.88e-06</td> <td>  -15.111</td> <td> 0.000</td> <td>   -0.000</td> <td>-7.73e-05</td>\n",
       "</tr>\n",
       "</table>\n",
       "<table class=\"simpletable\">\n",
       "<tr>\n",
       "  <th>Omnibus:</th>       <td>30492.205</td> <th>  Durbin-Watson:     </th>  <td>   0.082</td> \n",
       "</tr>\n",
       "<tr>\n",
       "  <th>Prob(Omnibus):</th>  <td> 0.000</td>   <th>  Jarque-Bera (JB):  </th> <td>496404.949</td>\n",
       "</tr>\n",
       "<tr>\n",
       "  <th>Skew:</th>           <td> 2.919</td>   <th>  Prob(JB):          </th>  <td>    0.00</td> \n",
       "</tr>\n",
       "<tr>\n",
       "  <th>Kurtosis:</th>       <td>17.849</td>   <th>  Cond. No.          </th>  <td>1.35e+07</td> \n",
       "</tr>\n",
       "</table><br/><br/>Notes:<br/>[1] Standard Errors assume that the covariance matrix of the errors is correctly specified.<br/>[2] The condition number is large, 1.35e+07. This might indicate that there are<br/>strong multicollinearity or other numerical problems."
      ],
      "text/latex": [
       "\\begin{center}\n",
       "\\begin{tabular}{lclc}\n",
       "\\toprule\n",
       "\\textbf{Dep. Variable:}    &   grp\\_pc\\_usd   & \\textbf{  R-squared:         } &      0.005   \\\\\n",
       "\\textbf{Model:}            &       OLS        & \\textbf{  Adj. R-squared:    } &      0.005   \\\\\n",
       "\\textbf{Method:}           &  Least Squares   & \\textbf{  F-statistic:       } &      228.4   \\\\\n",
       "\\textbf{Date:}             & Wed, 07 Feb 2024 & \\textbf{  Prob (F-statistic):} &   1.80e-51   \\\\\n",
       "\\textbf{Time:}             &     16:59:23     & \\textbf{  Log-Likelihood:    } & -5.1726e+05  \\\\\n",
       "\\textbf{No. Observations:} &       46797      & \\textbf{  AIC:               } &  1.035e+06   \\\\\n",
       "\\textbf{Df Residuals:}     &       46795      & \\textbf{  BIC:               } &  1.035e+06   \\\\\n",
       "\\textbf{Df Model:}         &           1      & \\textbf{                     } &              \\\\\n",
       "\\textbf{Covariance Type:}  &    nonrobust     & \\textbf{                     } &              \\\\\n",
       "\\bottomrule\n",
       "\\end{tabular}\n",
       "\\begin{tabular}{lcccccc}\n",
       "               & \\textbf{coef} & \\textbf{std err} & \\textbf{t} & \\textbf{P$> |$t$|$} & \\textbf{[0.025} & \\textbf{0.975]}  \\\\\n",
       "\\midrule\n",
       "\\textbf{const} &    1.071e+04  &       74.836     &   143.172  &         0.000        &     1.06e+04    &     1.09e+04     \\\\\n",
       "\\textbf{pop}   &   -8.887e-05  &     5.88e-06     &   -15.111  &         0.000        &       -0.000    &    -7.73e-05     \\\\\n",
       "\\bottomrule\n",
       "\\end{tabular}\n",
       "\\begin{tabular}{lclc}\n",
       "\\textbf{Omnibus:}       & 30492.205 & \\textbf{  Durbin-Watson:     } &     0.082   \\\\\n",
       "\\textbf{Prob(Omnibus):} &    0.000  & \\textbf{  Jarque-Bera (JB):  } & 496404.949  \\\\\n",
       "\\textbf{Skew:}          &    2.919  & \\textbf{  Prob(JB):          } &      0.00   \\\\\n",
       "\\textbf{Kurtosis:}      &   17.849  & \\textbf{  Cond. No.          } &  1.35e+07   \\\\\n",
       "\\bottomrule\n",
       "\\end{tabular}\n",
       "%\\caption{OLS Regression Results}\n",
       "\\end{center}\n",
       "\n",
       "Notes: \\newline\n",
       " [1] Standard Errors assume that the covariance matrix of the errors is correctly specified. \\newline\n",
       " [2] The condition number is large, 1.35e+07. This might indicate that there are \\newline\n",
       " strong multicollinearity or other numerical problems."
      ],
      "text/plain": [
       "<class 'statsmodels.iolib.summary.Summary'>\n",
       "\"\"\"\n",
       "                            OLS Regression Results                            \n",
       "==============================================================================\n",
       "Dep. Variable:             grp_pc_usd   R-squared:                       0.005\n",
       "Model:                            OLS   Adj. R-squared:                  0.005\n",
       "Method:                 Least Squares   F-statistic:                     228.4\n",
       "Date:                Wed, 07 Feb 2024   Prob (F-statistic):           1.80e-51\n",
       "Time:                        16:59:23   Log-Likelihood:            -5.1726e+05\n",
       "No. Observations:               46797   AIC:                         1.035e+06\n",
       "Df Residuals:                   46795   BIC:                         1.035e+06\n",
       "Df Model:                           1                                         \n",
       "Covariance Type:            nonrobust                                         \n",
       "==============================================================================\n",
       "                 coef    std err          t      P>|t|      [0.025      0.975]\n",
       "------------------------------------------------------------------------------\n",
       "const       1.071e+04     74.836    143.172      0.000    1.06e+04    1.09e+04\n",
       "pop        -8.887e-05   5.88e-06    -15.111      0.000      -0.000   -7.73e-05\n",
       "==============================================================================\n",
       "Omnibus:                    30492.205   Durbin-Watson:                   0.082\n",
       "Prob(Omnibus):                  0.000   Jarque-Bera (JB):           496404.949\n",
       "Skew:                           2.919   Prob(JB):                         0.00\n",
       "Kurtosis:                      17.849   Cond. No.                     1.35e+07\n",
       "==============================================================================\n",
       "\n",
       "Notes:\n",
       "[1] Standard Errors assume that the covariance matrix of the errors is correctly specified.\n",
       "[2] The condition number is large, 1.35e+07. This might indicate that there are\n",
       "strong multicollinearity or other numerical problems.\n",
       "\"\"\""
      ]
     },
     "execution_count": 32,
     "metadata": {},
     "output_type": "execute_result"
    }
   ],
   "source": [
    "factor = sm.add_constant(df['pop'])\n",
    "results = sm.OLS(y, factor).fit()\n",
    "results.summary()"
   ]
  },
  {
   "cell_type": "code",
   "execution_count": 33,
   "id": "b3c36950-d164-43f1-ada7-9bb8733a76f3",
   "metadata": {},
   "outputs": [
    {
     "data": {
      "text/html": [
       "<table class=\"simpletable\">\n",
       "<caption>OLS Regression Results</caption>\n",
       "<tr>\n",
       "  <th>Dep. Variable:</th>       <td>grp_pc_usd</td>    <th>  R-squared:         </th>  <td>   0.170</td>  \n",
       "</tr>\n",
       "<tr>\n",
       "  <th>Model:</th>                   <td>OLS</td>       <th>  Adj. R-squared:    </th>  <td>   0.170</td>  \n",
       "</tr>\n",
       "<tr>\n",
       "  <th>Method:</th>             <td>Least Squares</td>  <th>  F-statistic:       </th>  <td>   9564.</td>  \n",
       "</tr>\n",
       "<tr>\n",
       "  <th>Date:</th>             <td>Wed, 07 Feb 2024</td> <th>  Prob (F-statistic):</th>   <td>  0.00</td>   \n",
       "</tr>\n",
       "<tr>\n",
       "  <th>Time:</th>                 <td>17:01:02</td>     <th>  Log-Likelihood:    </th> <td>-5.1303e+05</td>\n",
       "</tr>\n",
       "<tr>\n",
       "  <th>No. Observations:</th>      <td> 46797</td>      <th>  AIC:               </th>  <td>1.026e+06</td> \n",
       "</tr>\n",
       "<tr>\n",
       "  <th>Df Residuals:</th>          <td> 46795</td>      <th>  BIC:               </th>  <td>1.026e+06</td> \n",
       "</tr>\n",
       "<tr>\n",
       "  <th>Df Model:</th>              <td>     1</td>      <th>                     </th>      <td> </td>     \n",
       "</tr>\n",
       "<tr>\n",
       "  <th>Covariance Type:</th>      <td>nonrobust</td>    <th>                     </th>      <td> </td>     \n",
       "</tr>\n",
       "</table>\n",
       "<table class=\"simpletable\">\n",
       "<tr>\n",
       "      <td></td>        <th>coef</th>     <th>std err</th>      <th>t</th>      <th>P>|t|</th>  <th>[0.025</th>    <th>0.975]</th>  \n",
       "</tr>\n",
       "<tr>\n",
       "  <th>const</th>    <td> 1660.5394</td> <td>  109.738</td> <td>   15.132</td> <td> 0.000</td> <td> 1445.452</td> <td> 1875.627</td>\n",
       "</tr>\n",
       "<tr>\n",
       "  <th>cpi_2015</th> <td>  146.1404</td> <td>    1.494</td> <td>   97.797</td> <td> 0.000</td> <td>  143.211</td> <td>  149.069</td>\n",
       "</tr>\n",
       "</table>\n",
       "<table class=\"simpletable\">\n",
       "<tr>\n",
       "  <th>Omnibus:</th>       <td>30710.144</td> <th>  Durbin-Watson:     </th>  <td>   0.069</td> \n",
       "</tr>\n",
       "<tr>\n",
       "  <th>Prob(Omnibus):</th>  <td> 0.000</td>   <th>  Jarque-Bera (JB):  </th> <td>673898.160</td>\n",
       "</tr>\n",
       "<tr>\n",
       "  <th>Skew:</th>           <td> 2.830</td>   <th>  Prob(JB):          </th>  <td>    0.00</td> \n",
       "</tr>\n",
       "<tr>\n",
       "  <th>Kurtosis:</th>       <td>20.708</td>   <th>  Cond. No.          </th>  <td>    125.</td> \n",
       "</tr>\n",
       "</table><br/><br/>Notes:<br/>[1] Standard Errors assume that the covariance matrix of the errors is correctly specified."
      ],
      "text/latex": [
       "\\begin{center}\n",
       "\\begin{tabular}{lclc}\n",
       "\\toprule\n",
       "\\textbf{Dep. Variable:}    &   grp\\_pc\\_usd   & \\textbf{  R-squared:         } &      0.170   \\\\\n",
       "\\textbf{Model:}            &       OLS        & \\textbf{  Adj. R-squared:    } &      0.170   \\\\\n",
       "\\textbf{Method:}           &  Least Squares   & \\textbf{  F-statistic:       } &      9564.   \\\\\n",
       "\\textbf{Date:}             & Wed, 07 Feb 2024 & \\textbf{  Prob (F-statistic):} &      0.00    \\\\\n",
       "\\textbf{Time:}             &     17:01:02     & \\textbf{  Log-Likelihood:    } & -5.1303e+05  \\\\\n",
       "\\textbf{No. Observations:} &       46797      & \\textbf{  AIC:               } &  1.026e+06   \\\\\n",
       "\\textbf{Df Residuals:}     &       46795      & \\textbf{  BIC:               } &  1.026e+06   \\\\\n",
       "\\textbf{Df Model:}         &           1      & \\textbf{                     } &              \\\\\n",
       "\\textbf{Covariance Type:}  &    nonrobust     & \\textbf{                     } &              \\\\\n",
       "\\bottomrule\n",
       "\\end{tabular}\n",
       "\\begin{tabular}{lcccccc}\n",
       "                   & \\textbf{coef} & \\textbf{std err} & \\textbf{t} & \\textbf{P$> |$t$|$} & \\textbf{[0.025} & \\textbf{0.975]}  \\\\\n",
       "\\midrule\n",
       "\\textbf{const}     &    1660.5394  &      109.738     &    15.132  &         0.000        &     1445.452    &     1875.627     \\\\\n",
       "\\textbf{cpi\\_2015} &     146.1404  &        1.494     &    97.797  &         0.000        &      143.211    &      149.069     \\\\\n",
       "\\bottomrule\n",
       "\\end{tabular}\n",
       "\\begin{tabular}{lclc}\n",
       "\\textbf{Omnibus:}       & 30710.144 & \\textbf{  Durbin-Watson:     } &     0.069   \\\\\n",
       "\\textbf{Prob(Omnibus):} &    0.000  & \\textbf{  Jarque-Bera (JB):  } & 673898.160  \\\\\n",
       "\\textbf{Skew:}          &    2.830  & \\textbf{  Prob(JB):          } &      0.00   \\\\\n",
       "\\textbf{Kurtosis:}      &   20.708  & \\textbf{  Cond. No.          } &      125.   \\\\\n",
       "\\bottomrule\n",
       "\\end{tabular}\n",
       "%\\caption{OLS Regression Results}\n",
       "\\end{center}\n",
       "\n",
       "Notes: \\newline\n",
       " [1] Standard Errors assume that the covariance matrix of the errors is correctly specified."
      ],
      "text/plain": [
       "<class 'statsmodels.iolib.summary.Summary'>\n",
       "\"\"\"\n",
       "                            OLS Regression Results                            \n",
       "==============================================================================\n",
       "Dep. Variable:             grp_pc_usd   R-squared:                       0.170\n",
       "Model:                            OLS   Adj. R-squared:                  0.170\n",
       "Method:                 Least Squares   F-statistic:                     9564.\n",
       "Date:                Wed, 07 Feb 2024   Prob (F-statistic):               0.00\n",
       "Time:                        17:01:02   Log-Likelihood:            -5.1303e+05\n",
       "No. Observations:               46797   AIC:                         1.026e+06\n",
       "Df Residuals:                   46795   BIC:                         1.026e+06\n",
       "Df Model:                           1                                         \n",
       "Covariance Type:            nonrobust                                         \n",
       "==============================================================================\n",
       "                 coef    std err          t      P>|t|      [0.025      0.975]\n",
       "------------------------------------------------------------------------------\n",
       "const       1660.5394    109.738     15.132      0.000    1445.452    1875.627\n",
       "cpi_2015     146.1404      1.494     97.797      0.000     143.211     149.069\n",
       "==============================================================================\n",
       "Omnibus:                    30710.144   Durbin-Watson:                   0.069\n",
       "Prob(Omnibus):                  0.000   Jarque-Bera (JB):           673898.160\n",
       "Skew:                           2.830   Prob(JB):                         0.00\n",
       "Kurtosis:                      20.708   Cond. No.                         125.\n",
       "==============================================================================\n",
       "\n",
       "Notes:\n",
       "[1] Standard Errors assume that the covariance matrix of the errors is correctly specified.\n",
       "\"\"\""
      ]
     },
     "execution_count": 33,
     "metadata": {},
     "output_type": "execute_result"
    }
   ],
   "source": [
    "factor = sm.add_constant(df['cpi_2015'])\n",
    "results = sm.OLS(y, factor).fit()\n",
    "results.summary()"
   ]
  },
  {
   "cell_type": "code",
   "execution_count": 37,
   "id": "3c5e52f6-1739-43fa-b095-6d8b2ee50523",
   "metadata": {},
   "outputs": [
    {
     "data": {
      "text/html": [
       "<table class=\"simpletable\">\n",
       "<caption>OLS Regression Results</caption>\n",
       "<tr>\n",
       "  <th>Dep. Variable:</th>       <td>grp_pc_usd</td>    <th>  R-squared:         </th>  <td>   0.171</td>  \n",
       "</tr>\n",
       "<tr>\n",
       "  <th>Model:</th>                   <td>OLS</td>       <th>  Adj. R-squared:    </th>  <td>   0.171</td>  \n",
       "</tr>\n",
       "<tr>\n",
       "  <th>Method:</th>             <td>Least Squares</td>  <th>  F-statistic:       </th>  <td>   4818.</td>  \n",
       "</tr>\n",
       "<tr>\n",
       "  <th>Date:</th>             <td>Wed, 07 Feb 2024</td> <th>  Prob (F-statistic):</th>   <td>  0.00</td>   \n",
       "</tr>\n",
       "<tr>\n",
       "  <th>Time:</th>                 <td>17:09:48</td>     <th>  Log-Likelihood:    </th> <td>-5.1300e+05</td>\n",
       "</tr>\n",
       "<tr>\n",
       "  <th>No. Observations:</th>      <td> 46797</td>      <th>  AIC:               </th>  <td>1.026e+06</td> \n",
       "</tr>\n",
       "<tr>\n",
       "  <th>Df Residuals:</th>          <td> 46794</td>      <th>  BIC:               </th>  <td>1.026e+06</td> \n",
       "</tr>\n",
       "<tr>\n",
       "  <th>Df Model:</th>              <td>     2</td>      <th>                     </th>      <td> </td>     \n",
       "</tr>\n",
       "<tr>\n",
       "  <th>Covariance Type:</th>      <td>nonrobust</td>    <th>                     </th>      <td> </td>     \n",
       "</tr>\n",
       "</table>\n",
       "<table class=\"simpletable\">\n",
       "<tr>\n",
       "      <td></td>        <th>coef</th>     <th>std err</th>      <th>t</th>      <th>P>|t|</th>  <th>[0.025</th>    <th>0.975]</th>  \n",
       "</tr>\n",
       "<tr>\n",
       "  <th>const</th>    <td> 1896.7846</td> <td>  113.897</td> <td>   16.654</td> <td> 0.000</td> <td> 1673.545</td> <td> 2120.024</td>\n",
       "</tr>\n",
       "<tr>\n",
       "  <th>pop</th>      <td>-4.143e-05</td> <td> 5.39e-06</td> <td>   -7.685</td> <td> 0.000</td> <td> -5.2e-05</td> <td>-3.09e-05</td>\n",
       "</tr>\n",
       "<tr>\n",
       "  <th>cpi_2015</th> <td>  145.0922</td> <td>    1.500</td> <td>   96.753</td> <td> 0.000</td> <td>  142.153</td> <td>  148.031</td>\n",
       "</tr>\n",
       "</table>\n",
       "<table class=\"simpletable\">\n",
       "<tr>\n",
       "  <th>Omnibus:</th>       <td>30720.234</td> <th>  Durbin-Watson:     </th>  <td>   0.069</td> \n",
       "</tr>\n",
       "<tr>\n",
       "  <th>Prob(Omnibus):</th>  <td> 0.000</td>   <th>  Jarque-Bera (JB):  </th> <td>673725.312</td>\n",
       "</tr>\n",
       "<tr>\n",
       "  <th>Skew:</th>           <td> 2.832</td>   <th>  Prob(JB):          </th>  <td>    0.00</td> \n",
       "</tr>\n",
       "<tr>\n",
       "  <th>Kurtosis:</th>       <td>20.704</td>   <th>  Cond. No.          </th>  <td>2.25e+07</td> \n",
       "</tr>\n",
       "</table><br/><br/>Notes:<br/>[1] Standard Errors assume that the covariance matrix of the errors is correctly specified.<br/>[2] The condition number is large, 2.25e+07. This might indicate that there are<br/>strong multicollinearity or other numerical problems."
      ],
      "text/latex": [
       "\\begin{center}\n",
       "\\begin{tabular}{lclc}\n",
       "\\toprule\n",
       "\\textbf{Dep. Variable:}    &   grp\\_pc\\_usd   & \\textbf{  R-squared:         } &      0.171   \\\\\n",
       "\\textbf{Model:}            &       OLS        & \\textbf{  Adj. R-squared:    } &      0.171   \\\\\n",
       "\\textbf{Method:}           &  Least Squares   & \\textbf{  F-statistic:       } &      4818.   \\\\\n",
       "\\textbf{Date:}             & Wed, 07 Feb 2024 & \\textbf{  Prob (F-statistic):} &      0.00    \\\\\n",
       "\\textbf{Time:}             &     17:09:48     & \\textbf{  Log-Likelihood:    } & -5.1300e+05  \\\\\n",
       "\\textbf{No. Observations:} &       46797      & \\textbf{  AIC:               } &  1.026e+06   \\\\\n",
       "\\textbf{Df Residuals:}     &       46794      & \\textbf{  BIC:               } &  1.026e+06   \\\\\n",
       "\\textbf{Df Model:}         &           2      & \\textbf{                     } &              \\\\\n",
       "\\textbf{Covariance Type:}  &    nonrobust     & \\textbf{                     } &              \\\\\n",
       "\\bottomrule\n",
       "\\end{tabular}\n",
       "\\begin{tabular}{lcccccc}\n",
       "                   & \\textbf{coef} & \\textbf{std err} & \\textbf{t} & \\textbf{P$> |$t$|$} & \\textbf{[0.025} & \\textbf{0.975]}  \\\\\n",
       "\\midrule\n",
       "\\textbf{const}     &    1896.7846  &      113.897     &    16.654  &         0.000        &     1673.545    &     2120.024     \\\\\n",
       "\\textbf{pop}       &   -4.143e-05  &     5.39e-06     &    -7.685  &         0.000        &     -5.2e-05    &    -3.09e-05     \\\\\n",
       "\\textbf{cpi\\_2015} &     145.0922  &        1.500     &    96.753  &         0.000        &      142.153    &      148.031     \\\\\n",
       "\\bottomrule\n",
       "\\end{tabular}\n",
       "\\begin{tabular}{lclc}\n",
       "\\textbf{Omnibus:}       & 30720.234 & \\textbf{  Durbin-Watson:     } &     0.069   \\\\\n",
       "\\textbf{Prob(Omnibus):} &    0.000  & \\textbf{  Jarque-Bera (JB):  } & 673725.312  \\\\\n",
       "\\textbf{Skew:}          &    2.832  & \\textbf{  Prob(JB):          } &      0.00   \\\\\n",
       "\\textbf{Kurtosis:}      &   20.704  & \\textbf{  Cond. No.          } &  2.25e+07   \\\\\n",
       "\\bottomrule\n",
       "\\end{tabular}\n",
       "%\\caption{OLS Regression Results}\n",
       "\\end{center}\n",
       "\n",
       "Notes: \\newline\n",
       " [1] Standard Errors assume that the covariance matrix of the errors is correctly specified. \\newline\n",
       " [2] The condition number is large, 2.25e+07. This might indicate that there are \\newline\n",
       " strong multicollinearity or other numerical problems."
      ],
      "text/plain": [
       "<class 'statsmodels.iolib.summary.Summary'>\n",
       "\"\"\"\n",
       "                            OLS Regression Results                            \n",
       "==============================================================================\n",
       "Dep. Variable:             grp_pc_usd   R-squared:                       0.171\n",
       "Model:                            OLS   Adj. R-squared:                  0.171\n",
       "Method:                 Least Squares   F-statistic:                     4818.\n",
       "Date:                Wed, 07 Feb 2024   Prob (F-statistic):               0.00\n",
       "Time:                        17:09:48   Log-Likelihood:            -5.1300e+05\n",
       "No. Observations:               46797   AIC:                         1.026e+06\n",
       "Df Residuals:                   46794   BIC:                         1.026e+06\n",
       "Df Model:                           2                                         \n",
       "Covariance Type:            nonrobust                                         \n",
       "==============================================================================\n",
       "                 coef    std err          t      P>|t|      [0.025      0.975]\n",
       "------------------------------------------------------------------------------\n",
       "const       1896.7846    113.897     16.654      0.000    1673.545    2120.024\n",
       "pop        -4.143e-05   5.39e-06     -7.685      0.000    -5.2e-05   -3.09e-05\n",
       "cpi_2015     145.0922      1.500     96.753      0.000     142.153     148.031\n",
       "==============================================================================\n",
       "Omnibus:                    30720.234   Durbin-Watson:                   0.069\n",
       "Prob(Omnibus):                  0.000   Jarque-Bera (JB):           673725.312\n",
       "Skew:                           2.832   Prob(JB):                         0.00\n",
       "Kurtosis:                      20.704   Cond. No.                     2.25e+07\n",
       "==============================================================================\n",
       "\n",
       "Notes:\n",
       "[1] Standard Errors assume that the covariance matrix of the errors is correctly specified.\n",
       "[2] The condition number is large, 2.25e+07. This might indicate that there are\n",
       "strong multicollinearity or other numerical problems.\n",
       "\"\"\""
      ]
     },
     "execution_count": 37,
     "metadata": {},
     "output_type": "execute_result"
    }
   ],
   "source": [
    "multipleFactor = df[['pop', 'cpi_2015']]\n",
    "x = sm.add_constant(multipleFactor)\n",
    "results = sm.OLS(y, x).fit()\n",
    "results.summary()"
   ]
  },
  {
   "cell_type": "code",
   "execution_count": null,
   "id": "5640fd85-988c-4229-98ad-4d0be4bba8dd",
   "metadata": {},
   "outputs": [],
   "source": []
  }
 ],
 "metadata": {
  "kernelspec": {
   "display_name": "Python 3 (ipykernel)",
   "language": "python",
   "name": "python3"
  },
  "language_info": {
   "codemirror_mode": {
    "name": "ipython",
    "version": 3
   },
   "file_extension": ".py",
   "mimetype": "text/x-python",
   "name": "python",
   "nbconvert_exporter": "python",
   "pygments_lexer": "ipython3",
   "version": "3.12.1"
  }
 },
 "nbformat": 4,
 "nbformat_minor": 5
}
