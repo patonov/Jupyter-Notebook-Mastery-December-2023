{
 "cells": [
  {
   "cell_type": "code",
   "execution_count": 1,
   "id": "336c4388-87e1-4d1e-8f2e-9baa8105c4a2",
   "metadata": {},
   "outputs": [
    {
     "name": "stdout",
     "output_type": "stream",
     "text": [
      "Hello, world!\n"
     ]
    }
   ],
   "source": [
    "print('Hello, world!')"
   ]
  },
  {
   "cell_type": "code",
   "execution_count": 2,
   "id": "253d01e1-4ff2-43bc-913a-e06328ec73fc",
   "metadata": {},
   "outputs": [
    {
     "name": "stdout",
     "output_type": "stream",
     "text": [
      "2\n"
     ]
    }
   ],
   "source": [
    "print(1+1)"
   ]
  },
  {
   "cell_type": "code",
   "execution_count": 3,
   "id": "838fe88b-b5d5-485a-bed5-ba5103d8ce02",
   "metadata": {},
   "outputs": [
    {
     "name": "stdout",
     "output_type": "stream",
     "text": [
      "False\n"
     ]
    }
   ],
   "source": [
    "print(1>1)"
   ]
  },
  {
   "cell_type": "code",
   "execution_count": 4,
   "id": "b9b23200-b618-4ab2-8860-ba4b17cd4285",
   "metadata": {},
   "outputs": [
    {
     "name": "stdout",
     "output_type": "stream",
     "text": [
      "True\n"
     ]
    }
   ],
   "source": [
    "print(1>=1)"
   ]
  },
  {
   "cell_type": "code",
   "execution_count": 5,
   "id": "aa1218c8-9ef9-461c-ba9e-8c85a3fdbc62",
   "metadata": {},
   "outputs": [
    {
     "name": "stdout",
     "output_type": "stream",
     "text": [
      "boli meeee\n"
     ]
    }
   ],
   "source": [
    "print('boli meeee')"
   ]
  },
  {
   "cell_type": "code",
   "execution_count": null,
   "id": "4fc4a008-0ffc-4da7-9735-163064730cdb",
   "metadata": {},
   "outputs": [],
   "source": []
  }
 ],
 "metadata": {
  "kernelspec": {
   "display_name": "Python 3 (ipykernel)",
   "language": "python",
   "name": "python3"
  },
  "language_info": {
   "codemirror_mode": {
    "name": "ipython",
    "version": 3
   },
   "file_extension": ".py",
   "mimetype": "text/x-python",
   "name": "python",
   "nbconvert_exporter": "python",
   "pygments_lexer": "ipython3",
   "version": "3.12.1"
  }
 },
 "nbformat": 4,
 "nbformat_minor": 5
}
