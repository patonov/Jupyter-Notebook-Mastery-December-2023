{
 "cells": [
  {
   "cell_type": "code",
   "execution_count": 1,
   "id": "b99c125f-f5d4-4333-a543-973d5d77cfb0",
   "metadata": {},
   "outputs": [
    {
     "name": "stdout",
     "output_type": "stream",
     "text": [
      "hi new year!\n"
     ]
    }
   ],
   "source": [
    "print('hi new year!')"
   ]
  },
  {
   "cell_type": "code",
   "execution_count": 3,
   "id": "9fcdb945-8e41-4e26-854f-18cbb75b426a",
   "metadata": {},
   "outputs": [],
   "source": [
    "import numpy as np\n",
    "import pandas as pd"
   ]
  },
  {
   "cell_type": "code",
   "execution_count": 4,
   "id": "3e7823c9-4677-4e17-987f-895ceab920a9",
   "metadata": {},
   "outputs": [],
   "source": [
    "series = pd.Series([11, 22, 33, 44, 55, 66])"
   ]
  },
  {
   "cell_type": "code",
   "execution_count": 5,
   "id": "8c9b2a04-52dc-4779-b7c6-34e9c88dc44b",
   "metadata": {},
   "outputs": [
    {
     "data": {
      "text/plain": [
       "0    11\n",
       "1    22\n",
       "2    33\n",
       "3    44\n",
       "4    55\n",
       "5    66\n",
       "dtype: int64"
      ]
     },
     "execution_count": 5,
     "metadata": {},
     "output_type": "execute_result"
    }
   ],
   "source": [
    "series"
   ]
  },
  {
   "cell_type": "code",
   "execution_count": 6,
   "id": "3977a766-27b7-45be-95e2-48f10397d6cb",
   "metadata": {},
   "outputs": [
    {
     "data": {
      "text/plain": [
       "pandas.core.series.Series"
      ]
     },
     "execution_count": 6,
     "metadata": {},
     "output_type": "execute_result"
    }
   ],
   "source": [
    "type(series)"
   ]
  },
  {
   "cell_type": "code",
   "execution_count": 7,
   "id": "daa2482f-1543-4643-95a0-a56f1846ffe1",
   "metadata": {},
   "outputs": [
    {
     "data": {
      "text/plain": [
       "array([0, 1, 2, 3, 4, 5], dtype=int64)"
      ]
     },
     "execution_count": 7,
     "metadata": {},
     "output_type": "execute_result"
    }
   ],
   "source": [
    "series.index.values"
   ]
  },
  {
   "cell_type": "code",
   "execution_count": 8,
   "id": "2d5919d0-709b-40cf-ab38-90decba6bc8c",
   "metadata": {},
   "outputs": [
    {
     "data": {
      "text/plain": [
       "231"
      ]
     },
     "execution_count": 8,
     "metadata": {},
     "output_type": "execute_result"
    }
   ],
   "source": [
    "np.sum(series)"
   ]
  },
  {
   "cell_type": "code",
   "execution_count": 9,
   "id": "049ed76b-5097-407e-904b-1c7633c89e8a",
   "metadata": {},
   "outputs": [
    {
     "data": {
      "text/plain": [
       "15"
      ]
     },
     "execution_count": 9,
     "metadata": {},
     "output_type": "execute_result"
    }
   ],
   "source": [
    "np.sum(series.index.values)"
   ]
  },
  {
   "cell_type": "code",
   "execution_count": null,
   "id": "df1f56f7-f28d-4b8a-afb1-e33eba779d9b",
   "metadata": {},
   "outputs": [],
   "source": []
  }
 ],
 "metadata": {
  "kernelspec": {
   "display_name": "Python 3 (ipykernel)",
   "language": "python",
   "name": "python3"
  },
  "language_info": {
   "codemirror_mode": {
    "name": "ipython",
    "version": 3
   },
   "file_extension": ".py",
   "mimetype": "text/x-python",
   "name": "python",
   "nbconvert_exporter": "python",
   "pygments_lexer": "ipython3",
   "version": "3.12.1"
  }
 },
 "nbformat": 4,
 "nbformat_minor": 5
}
