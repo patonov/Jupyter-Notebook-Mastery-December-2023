{
 "cells": [
  {
   "cell_type": "code",
   "execution_count": 1,
   "id": "61460e1c-d3d8-4459-bf55-b1b834d508ec",
   "metadata": {},
   "outputs": [
    {
     "name": "stdout",
     "output_type": "stream",
     "text": [
      "Hello World\n"
     ]
    }
   ],
   "source": [
    "print('Hello World')"
   ]
  },
  {
   "cell_type": "code",
   "execution_count": 4,
   "id": "7c48d588-476d-41cf-aec2-688973c1e927",
   "metadata": {},
   "outputs": [],
   "source": [
    "import numpy as np"
   ]
  },
  {
   "cell_type": "code",
   "execution_count": 5,
   "id": "0d08cd29-317a-468a-ba5a-47d07830b170",
   "metadata": {},
   "outputs": [
    {
     "name": "stdout",
     "output_type": "stream",
     "text": [
      "[1 2 3 4 5 6]\n"
     ]
    }
   ],
   "source": [
    "my_list = np.array([1, 2, 3, 4, 5, 6], dtype='int8')\n",
    "print(my_list)"
   ]
  },
  {
   "cell_type": "code",
   "execution_count": 10,
   "id": "e9198470-99eb-4858-aecd-e9f6b1ab201b",
   "metadata": {},
   "outputs": [
    {
     "name": "stdout",
     "output_type": "stream",
     "text": [
      "[[ 1  2  3]\n",
      " [10 20 30]]\n"
     ]
    }
   ],
   "source": [
    "twod_array = np.array([[1, 2, 3], [10, 20, 30]])\n",
    "print(twod_array)"
   ]
  },
  {
   "cell_type": "code",
   "execution_count": 18,
   "id": "e050d6c8-e3b1-43b9-a40a-7e178cab8955",
   "metadata": {},
   "outputs": [
    {
     "data": {
      "text/plain": [
       "numpy.ndarray"
      ]
     },
     "execution_count": 18,
     "metadata": {},
     "output_type": "execute_result"
    }
   ],
   "source": [
    "type(np.array(twod_array))"
   ]
  },
  {
   "cell_type": "code",
   "execution_count": 19,
   "id": "24a14616-97f8-4781-a5b3-a02cbb3f0253",
   "metadata": {},
   "outputs": [
    {
     "name": "stdout",
     "output_type": "stream",
     "text": [
      "tralala\n"
     ]
    }
   ],
   "source": [
    "print('tralala')"
   ]
  },
  {
   "cell_type": "code",
   "execution_count": 20,
   "id": "be6d799a-de33-4883-8c72-6ee61294a827",
   "metadata": {},
   "outputs": [
    {
     "data": {
      "text/plain": [
       "2"
      ]
     },
     "execution_count": 20,
     "metadata": {},
     "output_type": "execute_result"
    }
   ],
   "source": [
    "twod_array.ndim"
   ]
  },
  {
   "cell_type": "code",
   "execution_count": 21,
   "id": "413d0f70-d83d-47c0-8971-0c8a2baa68ff",
   "metadata": {},
   "outputs": [
    {
     "data": {
      "text/plain": [
       "(2, 3)"
      ]
     },
     "execution_count": 21,
     "metadata": {},
     "output_type": "execute_result"
    }
   ],
   "source": [
    "twod_array.shape"
   ]
  },
  {
   "cell_type": "code",
   "execution_count": 22,
   "id": "7c88b37e-bebd-4889-985b-405f7d4ed1f4",
   "metadata": {},
   "outputs": [
    {
     "data": {
      "text/plain": [
       "6"
      ]
     },
     "execution_count": 22,
     "metadata": {},
     "output_type": "execute_result"
    }
   ],
   "source": [
    "my_list.size"
   ]
  },
  {
   "cell_type": "code",
   "execution_count": 24,
   "id": "61181648-f315-4a80-8338-60f1b8cd8d7b",
   "metadata": {},
   "outputs": [],
   "source": [
    "seq = my_list"
   ]
  },
  {
   "cell_type": "code",
   "execution_count": 36,
   "id": "81854067-eaa9-4f78-abb9-e14c83500ba2",
   "metadata": {},
   "outputs": [
    {
     "data": {
      "text/plain": [
       "array([1, 3, 5], dtype=int8)"
      ]
     },
     "execution_count": 36,
     "metadata": {},
     "output_type": "execute_result"
    }
   ],
   "source": [
    "seq[0:5:2]"
   ]
  },
  {
   "cell_type": "code",
   "execution_count": 37,
   "id": "34e80713-ed60-4f7e-aae4-78c9e93bca17",
   "metadata": {},
   "outputs": [],
   "source": [
    "seq2 = twod_array"
   ]
  },
  {
   "cell_type": "code",
   "execution_count": 62,
   "id": "d2c47ecf-2e9b-4a69-965d-7db6ff956681",
   "metadata": {},
   "outputs": [
    {
     "data": {
      "text/plain": [
       "array([[ 1,  2,  3],\n",
       "       [10, 20, 30]])"
      ]
     },
     "execution_count": 62,
     "metadata": {},
     "output_type": "execute_result"
    }
   ],
   "source": [
    "seq2[0:2]"
   ]
  },
  {
   "cell_type": "code",
   "execution_count": 67,
   "id": "6f1d810f-d335-471b-9e9f-3f2fc5387789",
   "metadata": {},
   "outputs": [
    {
     "data": {
      "text/plain": [
       "array([10, 20])"
      ]
     },
     "execution_count": 67,
     "metadata": {},
     "output_type": "execute_result"
    }
   ],
   "source": [
    "seq2[1, 0:2]"
   ]
  },
  {
   "cell_type": "code",
   "execution_count": 69,
   "id": "865968d8-f051-44ca-8617-9e2989ed2b94",
   "metadata": {},
   "outputs": [
    {
     "data": {
      "text/plain": [
       "array([[0., 0., 0., 0.],\n",
       "       [0., 0., 0., 0.]])"
      ]
     },
     "execution_count": 69,
     "metadata": {},
     "output_type": "execute_result"
    }
   ],
   "source": [
    "np.zeros((2, 4))"
   ]
  },
  {
   "cell_type": "code",
   "execution_count": 70,
   "id": "aea01a31-602e-4cc5-aefd-98eff2ed0c1d",
   "metadata": {},
   "outputs": [
    {
     "data": {
      "text/plain": [
       "array([ 0.63427854,  0.40095316, -1.08376989,  1.3194083 , -1.54148364])"
      ]
     },
     "execution_count": 70,
     "metadata": {},
     "output_type": "execute_result"
    }
   ],
   "source": [
    "np.random.randn(5)"
   ]
  },
  {
   "cell_type": "code",
   "execution_count": 77,
   "id": "6c878272-c16e-415e-b8b1-6381e70a34ba",
   "metadata": {},
   "outputs": [],
   "source": [
    "reshaped_array = twod_array.reshape((1, 6))"
   ]
  },
  {
   "cell_type": "code",
   "execution_count": 78,
   "id": "daa8b6f4-ca61-44cb-a1f3-6ce512ce186d",
   "metadata": {},
   "outputs": [
    {
     "name": "stdout",
     "output_type": "stream",
     "text": [
      "[[ 1  2  3 10 20 30]]\n"
     ]
    }
   ],
   "source": [
    "print(reshaped_array)"
   ]
  },
  {
   "cell_type": "code",
   "execution_count": 79,
   "id": "22d9114d-308d-4c63-9713-0acfb1ba34f4",
   "metadata": {},
   "outputs": [],
   "source": [
    "arr1 = np.array(reshaped_array)"
   ]
  },
  {
   "cell_type": "code",
   "execution_count": 80,
   "id": "03e14c1e-573e-46e6-8fb8-37a190f2c313",
   "metadata": {},
   "outputs": [
    {
     "name": "stdout",
     "output_type": "stream",
     "text": [
      "[[ 1  2  3 10 20 30]]\n"
     ]
    }
   ],
   "source": [
    "print(arr1)"
   ]
  },
  {
   "cell_type": "code",
   "execution_count": 81,
   "id": "e34c12b6-ac89-487f-8eea-226fa0cd49bc",
   "metadata": {},
   "outputs": [
    {
     "data": {
      "text/plain": [
       "False"
      ]
     },
     "execution_count": 81,
     "metadata": {},
     "output_type": "execute_result"
    }
   ],
   "source": [
    "arr1 is reshaped_array"
   ]
  },
  {
   "cell_type": "code",
   "execution_count": 82,
   "id": "20c04e76-ff07-4c20-aba7-a420c5e316ec",
   "metadata": {},
   "outputs": [],
   "source": [
    "arr2 = np.asarray(reshaped_array)"
   ]
  },
  {
   "cell_type": "code",
   "execution_count": 83,
   "id": "cfed248f-dfd8-41d8-baf0-169e589e6554",
   "metadata": {},
   "outputs": [
    {
     "data": {
      "text/plain": [
       "False"
      ]
     },
     "execution_count": 83,
     "metadata": {},
     "output_type": "execute_result"
    }
   ],
   "source": [
    "arr1 is arr2"
   ]
  },
  {
   "cell_type": "code",
   "execution_count": null,
   "id": "416cf7ff-3c25-42eb-b8f6-74cbd98742c5",
   "metadata": {},
   "outputs": [],
   "source": []
  }
 ],
 "metadata": {
  "kernelspec": {
   "display_name": "Python 3 (ipykernel)",
   "language": "python",
   "name": "python3"
  },
  "language_info": {
   "codemirror_mode": {
    "name": "ipython",
    "version": 3
   },
   "file_extension": ".py",
   "mimetype": "text/x-python",
   "name": "python",
   "nbconvert_exporter": "python",
   "pygments_lexer": "ipython3",
   "version": "3.12.1"
  }
 },
 "nbformat": 4,
 "nbformat_minor": 5
}
