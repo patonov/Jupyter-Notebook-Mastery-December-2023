{
 "cells": [
  {
   "cell_type": "code",
   "execution_count": 10,
   "id": "59403122-800c-4a38-93ac-3548e855f4e2",
   "metadata": {},
   "outputs": [],
   "source": [
    "import pandas as pd\n",
    "import numpy as np"
   ]
  },
  {
   "cell_type": "code",
   "execution_count": 13,
   "id": "397ec101-47f7-4b2e-abcb-ab72f3a58c95",
   "metadata": {},
   "outputs": [],
   "source": [
    "df = pd.read_excel(r'D:\\Documents\\panel new monograph\\sbcpanel.xlsx')"
   ]
  },
  {
   "cell_type": "code",
   "execution_count": 14,
   "id": "83c39527-ad35-4bb4-8cca-2f6a053c6e70",
   "metadata": {},
   "outputs": [
    {
     "name": "stdout",
     "output_type": "stream",
     "text": [
      "     country  year  TaxRevGDP LocTaxGDP     RevDec LocElection  LocExpGDP  \\\n",
      "0    Belgium  2000       45.8       2.2   4.803493           1        6.7   \n",
      "1    Belgium  2001       45.7       2.3   5.032823           0        6.5   \n",
      "2    Belgium  2002       46.0       2.5   5.434783           0        6.8   \n",
      "3    Belgium  2003       45.3       2.6   5.739514           0        7.1   \n",
      "4    Belgium  2004       45.5       2.5   5.494505           0        6.8   \n",
      "..       ...   ...        ...       ...        ...         ...        ...   \n",
      "562   Sweden  2016       44.5      13.4   30.11236           0       25.0   \n",
      "563   Sweden  2017       44.5      13.4   30.11236           0       24.9   \n",
      "564   Sweden  2018       44.3      13.3  30.022573           1       25.3   \n",
      "565   Sweden  2019       43.4      12.9  29.723502           0       25.0   \n",
      "566   Sweden  2020       43.3      13.3  30.715935           0       25.6   \n",
      "\n",
      "     GovSpendGDP     ExpDec  LocBudgBal  TotalBudgBal  \n",
      "0           49.4  13.562753        -0.3          -0.1  \n",
      "1           49.4  13.157895        -0.1           0.2  \n",
      "2           49.9  13.627255        -0.1           0.0  \n",
      "3           51.0  13.921569         0.0          -1.9  \n",
      "4           49.3  13.793103         0.1          -0.2  \n",
      "..           ...        ...         ...           ...  \n",
      "562         49.7  50.301811        -0.6           1.0  \n",
      "563         49.2  50.609756        -0.2           1.4  \n",
      "564         49.8  50.803213        -0.7           0.8  \n",
      "565         49.1  50.916497        -0.9           0.6  \n",
      "566         52.5  48.761905         0.3          -2.8  \n",
      "\n",
      "[567 rows x 11 columns]\n"
     ]
    }
   ],
   "source": [
    "print(df)"
   ]
  },
  {
   "cell_type": "code",
   "execution_count": 37,
   "id": "0546719c-e5e9-44da-bb3b-d9fb6eb99bfe",
   "metadata": {},
   "outputs": [
    {
     "data": {
      "text/plain": [
       "(year                        0.046394\n",
       " TaxRevGDP                   1.000000\n",
       " LocExpGDP                   0.529572\n",
       " TotalBudgBal                0.204744\n",
       " GovSpendGDP_24.2           -0.097296\n",
       "                               ...   \n",
       " RevDec_33.04157549234135    0.066091\n",
       " RevDec_na                  -0.160250\n",
       " LocElection_0              -0.056844\n",
       " LocElection_1              -0.066398\n",
       " LocElection_na              0.202109\n",
       " Name: TaxRevGDP, Length: 1446, dtype: float64,\n",
       " ['LocalExpGDP'])"
      ]
     },
     "execution_count": 37,
     "metadata": {},
     "output_type": "execute_result"
    }
   ],
   "source": [
    "df.corr(method='pearson', min_periods=1, numeric_only = False)[\"TaxRevGDP\"], [\"LocalExpGDP\"]"
   ]
  },
  {
   "cell_type": "code",
   "execution_count": 38,
   "id": "0a94b855-3054-484d-8919-89928a210dfd",
   "metadata": {},
   "outputs": [
    {
     "data": {
      "text/plain": [
       "year                        0.046394\n",
       "TaxRevGDP                   1.000000\n",
       "LocExpGDP                   0.529572\n",
       "TotalBudgBal                0.204744\n",
       "GovSpendGDP_24.2           -0.097296\n",
       "                              ...   \n",
       "RevDec_33.04157549234135    0.066091\n",
       "RevDec_na                  -0.160250\n",
       "LocElection_0              -0.056844\n",
       "LocElection_1              -0.066398\n",
       "LocElection_na              0.202109\n",
       "Name: TaxRevGDP, Length: 1446, dtype: float64"
      ]
     },
     "execution_count": 38,
     "metadata": {},
     "output_type": "execute_result"
    }
   ],
   "source": [
    "df.corr(method='pearson', min_periods=1, numeric_only = False)[\"TaxRevGDP\"]"
   ]
  },
  {
   "cell_type": "code",
   "execution_count": 40,
   "id": "ed66dddc-4ef0-478b-9fd7-fd2fd73e55c3",
   "metadata": {},
   "outputs": [
    {
     "name": "stdout",
     "output_type": "stream",
     "text": [
      "eheee\n"
     ]
    }
   ],
   "source": [
    "print('eheee')"
   ]
  },
  {
   "cell_type": "code",
   "execution_count": null,
   "id": "bea530dc-e692-4fb2-8f5e-2dede5105a32",
   "metadata": {},
   "outputs": [],
   "source": []
  },
  {
   "cell_type": "code",
   "execution_count": null,
   "id": "b15957b1-a104-4758-baeb-0a0382c0c847",
   "metadata": {},
   "outputs": [],
   "source": []
  }
 ],
 "metadata": {
  "kernelspec": {
   "display_name": "Python 3 (ipykernel)",
   "language": "python",
   "name": "python3"
  },
  "language_info": {
   "codemirror_mode": {
    "name": "ipython",
    "version": 3
   },
   "file_extension": ".py",
   "mimetype": "text/x-python",
   "name": "python",
   "nbconvert_exporter": "python",
   "pygments_lexer": "ipython3",
   "version": "3.12.1"
  }
 },
 "nbformat": 4,
 "nbformat_minor": 5
}
