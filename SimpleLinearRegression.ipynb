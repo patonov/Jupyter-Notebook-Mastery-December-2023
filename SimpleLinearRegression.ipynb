{
 "cells": [
  {
   "cell_type": "code",
   "execution_count": 1,
   "id": "1a9f6b01-8002-473d-9d88-e60a69bb92c4",
   "metadata": {},
   "outputs": [],
   "source": [
    "import numpy as np\n",
    "import pandas as pd\n",
    "import matplotlib as mpl"
   ]
  },
  {
   "cell_type": "code",
   "execution_count": 7,
   "id": "1564556e-96b3-4674-a498-c9fa1cbf78db",
   "metadata": {},
   "outputs": [],
   "source": [
    "demoArray = pd.read_excel(r'D:\\Desktop\\sbcpanel.xlsx')"
   ]
  },
  {
   "cell_type": "code",
   "execution_count": 10,
   "id": "11e74353-bea7-4eee-b8e6-53f4694a05a1",
   "metadata": {},
   "outputs": [
    {
     "name": "stdout",
     "output_type": "stream",
     "text": [
      "     country  year  TaxRevGDP LocTaxGDP     RevDec LocElection  LocExpGDP  \\\n",
      "0    Belgium  2000       45.8       2.2   4.803493           1        6.7   \n",
      "1    Belgium  2001       45.7       2.3   5.032823           0        6.5   \n",
      "2    Belgium  2002       46.0       2.5   5.434783           0        6.8   \n",
      "3    Belgium  2003       45.3       2.6   5.739514           0        7.1   \n",
      "4    Belgium  2004       45.5       2.5   5.494505           0        6.8   \n",
      "..       ...   ...        ...       ...        ...         ...        ...   \n",
      "562   Sweden  2016       44.5      13.4   30.11236           0       25.0   \n",
      "563   Sweden  2017       44.5      13.4   30.11236           0       24.9   \n",
      "564   Sweden  2018       44.3      13.3  30.022573           1       25.3   \n",
      "565   Sweden  2019       43.4      12.9  29.723502           0       25.0   \n",
      "566   Sweden  2020       43.3      13.3  30.715935           0       25.6   \n",
      "\n",
      "     GovSpendGDP     ExpDec  LocBudgBal  TotalBudgBal  \n",
      "0           49.4  13.562753        -0.3          -0.1  \n",
      "1           49.4  13.157895        -0.1           0.2  \n",
      "2           49.9  13.627255        -0.1           0.0  \n",
      "3           51.0  13.921569         0.0          -1.9  \n",
      "4           49.3  13.793103         0.1          -0.2  \n",
      "..           ...        ...         ...           ...  \n",
      "562         49.7  50.301811        -0.6           1.0  \n",
      "563         49.2  50.609756        -0.2           1.4  \n",
      "564         49.8  50.803213        -0.7           0.8  \n",
      "565         49.1  50.916497        -0.9           0.6  \n",
      "566         52.5  48.761905         0.3          -2.8  \n",
      "\n",
      "[567 rows x 11 columns]\n"
     ]
    }
   ],
   "source": [
    "print(demoArray)"
   ]
  },
  {
   "cell_type": "code",
   "execution_count": 11,
   "id": "7853f522-8ccd-40c1-b47c-2829d601fc3c",
   "metadata": {},
   "outputs": [
    {
     "data": {
      "text/html": [
       "<div>\n",
       "<style scoped>\n",
       "    .dataframe tbody tr th:only-of-type {\n",
       "        vertical-align: middle;\n",
       "    }\n",
       "\n",
       "    .dataframe tbody tr th {\n",
       "        vertical-align: top;\n",
       "    }\n",
       "\n",
       "    .dataframe thead th {\n",
       "        text-align: right;\n",
       "    }\n",
       "</style>\n",
       "<table border=\"1\" class=\"dataframe\">\n",
       "  <thead>\n",
       "    <tr style=\"text-align: right;\">\n",
       "      <th></th>\n",
       "      <th>year</th>\n",
       "      <th>TaxRevGDP</th>\n",
       "      <th>LocExpGDP</th>\n",
       "      <th>GovSpendGDP</th>\n",
       "      <th>ExpDec</th>\n",
       "      <th>LocBudgBal</th>\n",
       "      <th>TotalBudgBal</th>\n",
       "    </tr>\n",
       "  </thead>\n",
       "  <tbody>\n",
       "    <tr>\n",
       "      <th>count</th>\n",
       "      <td>567.000000</td>\n",
       "      <td>567.000000</td>\n",
       "      <td>567.000000</td>\n",
       "      <td>567.000000</td>\n",
       "      <td>567.000000</td>\n",
       "      <td>567.000000</td>\n",
       "      <td>567.000000</td>\n",
       "    </tr>\n",
       "    <tr>\n",
       "      <th>mean</th>\n",
       "      <td>2010.000000</td>\n",
       "      <td>36.355908</td>\n",
       "      <td>10.320106</td>\n",
       "      <td>44.906702</td>\n",
       "      <td>22.520427</td>\n",
       "      <td>-0.081834</td>\n",
       "      <td>-2.514991</td>\n",
       "    </tr>\n",
       "    <tr>\n",
       "      <th>std</th>\n",
       "      <td>6.060648</td>\n",
       "      <td>5.947993</td>\n",
       "      <td>6.911951</td>\n",
       "      <td>6.666049</td>\n",
       "      <td>13.180165</td>\n",
       "      <td>0.373274</td>\n",
       "      <td>3.598125</td>\n",
       "    </tr>\n",
       "    <tr>\n",
       "      <th>min</th>\n",
       "      <td>2000.000000</td>\n",
       "      <td>20.700000</td>\n",
       "      <td>0.400000</td>\n",
       "      <td>24.200000</td>\n",
       "      <td>1.089325</td>\n",
       "      <td>-1.800000</td>\n",
       "      <td>-32.100000</td>\n",
       "    </tr>\n",
       "    <tr>\n",
       "      <th>25%</th>\n",
       "      <td>2005.000000</td>\n",
       "      <td>31.700000</td>\n",
       "      <td>6.400000</td>\n",
       "      <td>40.050000</td>\n",
       "      <td>14.021646</td>\n",
       "      <td>-0.300000</td>\n",
       "      <td>-4.300000</td>\n",
       "    </tr>\n",
       "    <tr>\n",
       "      <th>50%</th>\n",
       "      <td>2010.000000</td>\n",
       "      <td>35.900000</td>\n",
       "      <td>8.800000</td>\n",
       "      <td>45.100000</td>\n",
       "      <td>20.075047</td>\n",
       "      <td>0.000000</td>\n",
       "      <td>-2.300000</td>\n",
       "    </tr>\n",
       "    <tr>\n",
       "      <th>75%</th>\n",
       "      <td>2015.000000</td>\n",
       "      <td>41.250000</td>\n",
       "      <td>12.700000</td>\n",
       "      <td>49.750000</td>\n",
       "      <td>28.477914</td>\n",
       "      <td>0.100000</td>\n",
       "      <td>-0.100000</td>\n",
       "    </tr>\n",
       "    <tr>\n",
       "      <th>max</th>\n",
       "      <td>2020.000000</td>\n",
       "      <td>49.700000</td>\n",
       "      <td>35.900000</td>\n",
       "      <td>64.900000</td>\n",
       "      <td>66.464646</td>\n",
       "      <td>2.500000</td>\n",
       "      <td>6.900000</td>\n",
       "    </tr>\n",
       "  </tbody>\n",
       "</table>\n",
       "</div>"
      ],
      "text/plain": [
       "              year   TaxRevGDP   LocExpGDP  GovSpendGDP      ExpDec  \\\n",
       "count   567.000000  567.000000  567.000000   567.000000  567.000000   \n",
       "mean   2010.000000   36.355908   10.320106    44.906702   22.520427   \n",
       "std       6.060648    5.947993    6.911951     6.666049   13.180165   \n",
       "min    2000.000000   20.700000    0.400000    24.200000    1.089325   \n",
       "25%    2005.000000   31.700000    6.400000    40.050000   14.021646   \n",
       "50%    2010.000000   35.900000    8.800000    45.100000   20.075047   \n",
       "75%    2015.000000   41.250000   12.700000    49.750000   28.477914   \n",
       "max    2020.000000   49.700000   35.900000    64.900000   66.464646   \n",
       "\n",
       "       LocBudgBal  TotalBudgBal  \n",
       "count  567.000000    567.000000  \n",
       "mean    -0.081834     -2.514991  \n",
       "std      0.373274      3.598125  \n",
       "min     -1.800000    -32.100000  \n",
       "25%     -0.300000     -4.300000  \n",
       "50%      0.000000     -2.300000  \n",
       "75%      0.100000     -0.100000  \n",
       "max      2.500000      6.900000  "
      ]
     },
     "execution_count": 11,
     "metadata": {},
     "output_type": "execute_result"
    }
   ],
   "source": [
    "demoArray.describe()"
   ]
  },
  {
   "cell_type": "code",
   "execution_count": 12,
   "id": "e0ca1b56-e759-4468-a407-ee46d1c8f6cf",
   "metadata": {},
   "outputs": [],
   "source": [
    "import matplotlib.pyplot as ppt"
   ]
  },
  {
   "cell_type": "code",
   "execution_count": 25,
   "id": "cfe66bf1-a40f-4184-8064-78bbe198479a",
   "metadata": {},
   "outputs": [],
   "source": [
    "x = demoArray['LocExpGDP']\n",
    "y = demoArray['LocBudgBal']"
   ]
  },
  {
   "cell_type": "code",
   "execution_count": 27,
   "id": "2a3b6fa7-e83d-4dbc-a04f-a714842ba7a2",
   "metadata": {
    "scrolled": true
   },
   "outputs": [
    {
     "data": {
      "image/png": "[encoded data removed]",
      "text/plain": [
       "<Figure size 640x480 with 1 Axes>"
      ]
     },
     "metadata": {},
     "output_type": "display_data"
    }
   ],
   "source": [
    "ppt.scatter(x,y)\n",
    "ppt.xlabel('Local Expenditure', fontsize=20)\n",
    "ppt.ylabel('Local Budget Balance', fontsize=20)\n",
    "ppt.show()"
   ]
  },
  {
   "cell_type": "code",
   "execution_count": 32,
   "id": "674b8f9d-334a-4778-8668-efc11d5b9bd2",
   "metadata": {},
   "outputs": [],
   "source": [
    "import statsmodels.api as sm"
   ]
  },
  {
   "cell_type": "code",
   "execution_count": 34,
   "id": "ecc1b886-4f2a-4860-8654-bc691aa84db9",
   "metadata": {},
   "outputs": [
    {
     "data": {
      "text/html": [
       "<table class=\"simpletable\">\n",
       "<caption>OLS Regression Results</caption>\n",
       "<tr>\n",
       "  <th>Dep. Variable:</th>       <td>LocBudgBal</td>    <th>  R-squared:         </th> <td>   0.057</td>\n",
       "</tr>\n",
       "<tr>\n",
       "  <th>Model:</th>                   <td>OLS</td>       <th>  Adj. R-squared:    </th> <td>   0.055</td>\n",
       "</tr>\n",
       "<tr>\n",
       "  <th>Method:</th>             <td>Least Squares</td>  <th>  F-statistic:       </th> <td>   34.22</td>\n",
       "</tr>\n",
       "<tr>\n",
       "  <th>Date:</th>             <td>Sat, 27 Jan 2024</td> <th>  Prob (F-statistic):</th> <td>8.32e-09</td>\n",
       "</tr>\n",
       "<tr>\n",
       "  <th>Time:</th>                 <td>21:32:58</td>     <th>  Log-Likelihood:    </th> <td> -228.62</td>\n",
       "</tr>\n",
       "<tr>\n",
       "  <th>No. Observations:</th>      <td>   567</td>      <th>  AIC:               </th> <td>   461.2</td>\n",
       "</tr>\n",
       "<tr>\n",
       "  <th>Df Residuals:</th>          <td>   565</td>      <th>  BIC:               </th> <td>   469.9</td>\n",
       "</tr>\n",
       "<tr>\n",
       "  <th>Df Model:</th>              <td>     1</td>      <th>                     </th>     <td> </td>   \n",
       "</tr>\n",
       "<tr>\n",
       "  <th>Covariance Type:</th>      <td>nonrobust</td>    <th>                     </th>     <td> </td>   \n",
       "</tr>\n",
       "</table>\n",
       "<table class=\"simpletable\">\n",
       "<tr>\n",
       "      <td></td>         <th>coef</th>     <th>std err</th>      <th>t</th>      <th>P>|t|</th>  <th>[0.025</th>    <th>0.975]</th>  \n",
       "</tr>\n",
       "<tr>\n",
       "  <th>const</th>     <td>    0.0514</td> <td>    0.027</td> <td>    1.875</td> <td> 0.061</td> <td>   -0.002</td> <td>    0.105</td>\n",
       "</tr>\n",
       "<tr>\n",
       "  <th>LocExpGDP</th> <td>   -0.0129</td> <td>    0.002</td> <td>   -5.850</td> <td> 0.000</td> <td>   -0.017</td> <td>   -0.009</td>\n",
       "</tr>\n",
       "</table>\n",
       "<table class=\"simpletable\">\n",
       "<tr>\n",
       "  <th>Omnibus:</th>       <td>77.990</td> <th>  Durbin-Watson:     </th> <td>   0.840</td> \n",
       "</tr>\n",
       "<tr>\n",
       "  <th>Prob(Omnibus):</th> <td> 0.000</td> <th>  Jarque-Bera (JB):  </th> <td> 627.640</td> \n",
       "</tr>\n",
       "<tr>\n",
       "  <th>Skew:</th>          <td> 0.265</td> <th>  Prob(JB):          </th> <td>5.13e-137</td>\n",
       "</tr>\n",
       "<tr>\n",
       "  <th>Kurtosis:</th>      <td> 8.127</td> <th>  Cond. No.          </th> <td>    22.4</td> \n",
       "</tr>\n",
       "</table><br/><br/>Notes:<br/>[1] Standard Errors assume that the covariance matrix of the errors is correctly specified."
      ],
      "text/latex": [
       "\\begin{center}\n",
       "\\begin{tabular}{lclc}\n",
       "\\toprule\n",
       "\\textbf{Dep. Variable:}    &    LocBudgBal    & \\textbf{  R-squared:         } &     0.057   \\\\\n",
       "\\textbf{Model:}            &       OLS        & \\textbf{  Adj. R-squared:    } &     0.055   \\\\\n",
       "\\textbf{Method:}           &  Least Squares   & \\textbf{  F-statistic:       } &     34.22   \\\\\n",
       "\\textbf{Date:}             & Sat, 27 Jan 2024 & \\textbf{  Prob (F-statistic):} &  8.32e-09   \\\\\n",
       "\\textbf{Time:}             &     21:32:58     & \\textbf{  Log-Likelihood:    } &   -228.62   \\\\\n",
       "\\textbf{No. Observations:} &         567      & \\textbf{  AIC:               } &     461.2   \\\\\n",
       "\\textbf{Df Residuals:}     &         565      & \\textbf{  BIC:               } &     469.9   \\\\\n",
       "\\textbf{Df Model:}         &           1      & \\textbf{                     } &             \\\\\n",
       "\\textbf{Covariance Type:}  &    nonrobust     & \\textbf{                     } &             \\\\\n",
       "\\bottomrule\n",
       "\\end{tabular}\n",
       "\\begin{tabular}{lcccccc}\n",
       "                   & \\textbf{coef} & \\textbf{std err} & \\textbf{t} & \\textbf{P$> |$t$|$} & \\textbf{[0.025} & \\textbf{0.975]}  \\\\\n",
       "\\midrule\n",
       "\\textbf{const}     &       0.0514  &        0.027     &     1.875  &         0.061        &       -0.002    &        0.105     \\\\\n",
       "\\textbf{LocExpGDP} &      -0.0129  &        0.002     &    -5.850  &         0.000        &       -0.017    &       -0.009     \\\\\n",
       "\\bottomrule\n",
       "\\end{tabular}\n",
       "\\begin{tabular}{lclc}\n",
       "\\textbf{Omnibus:}       & 77.990 & \\textbf{  Durbin-Watson:     } &     0.840  \\\\\n",
       "\\textbf{Prob(Omnibus):} &  0.000 & \\textbf{  Jarque-Bera (JB):  } &   627.640  \\\\\n",
       "\\textbf{Skew:}          &  0.265 & \\textbf{  Prob(JB):          } & 5.13e-137  \\\\\n",
       "\\textbf{Kurtosis:}      &  8.127 & \\textbf{  Cond. No.          } &      22.4  \\\\\n",
       "\\bottomrule\n",
       "\\end{tabular}\n",
       "%\\caption{OLS Regression Results}\n",
       "\\end{center}\n",
       "\n",
       "Notes: \\newline\n",
       " [1] Standard Errors assume that the covariance matrix of the errors is correctly specified."
      ],
      "text/plain": [
       "<class 'statsmodels.iolib.summary.Summary'>\n",
       "\"\"\"\n",
       "                            OLS Regression Results                            \n",
       "==============================================================================\n",
       "Dep. Variable:             LocBudgBal   R-squared:                       0.057\n",
       "Model:                            OLS   Adj. R-squared:                  0.055\n",
       "Method:                 Least Squares   F-statistic:                     34.22\n",
       "Date:                Sat, 27 Jan 2024   Prob (F-statistic):           8.32e-09\n",
       "Time:                        21:32:58   Log-Likelihood:                -228.62\n",
       "No. Observations:                 567   AIC:                             461.2\n",
       "Df Residuals:                     565   BIC:                             469.9\n",
       "Df Model:                           1                                         \n",
       "Covariance Type:            nonrobust                                         \n",
       "==============================================================================\n",
       "                 coef    std err          t      P>|t|      [0.025      0.975]\n",
       "------------------------------------------------------------------------------\n",
       "const          0.0514      0.027      1.875      0.061      -0.002       0.105\n",
       "LocExpGDP     -0.0129      0.002     -5.850      0.000      -0.017      -0.009\n",
       "==============================================================================\n",
       "Omnibus:                       77.990   Durbin-Watson:                   0.840\n",
       "Prob(Omnibus):                  0.000   Jarque-Bera (JB):              627.640\n",
       "Skew:                           0.265   Prob(JB):                    5.13e-137\n",
       "Kurtosis:                       8.127   Cond. No.                         22.4\n",
       "==============================================================================\n",
       "\n",
       "Notes:\n",
       "[1] Standard Errors assume that the covariance matrix of the errors is correctly specified.\n",
       "\"\"\""
      ]
     },
     "execution_count": 34,
     "metadata": {},
     "output_type": "execute_result"
    }
   ],
   "source": [
    "hui = sm.add_constant(x)\n",
    "results = sm.OLS(y, hui).fit()\n",
    "results.summary()"
   ]
  },
  {
   "cell_type": "code",
   "execution_count": 38,
   "id": "7d09fb0e-008c-433e-ac12-d55791496b1a",
   "metadata": {},
   "outputs": [
    {
     "data": {
      "image/png": "[encoded data removed]",
      "text/plain": [
       "<Figure size 640x480 with 1 Axes>"
      ]
     },
     "metadata": {},
     "output_type": "display_data"
    }
   ],
   "source": [
    "ppt.scatter(x, y)\n",
    "yhat = -0.0129*x + 0.0514\n",
    "fig = ppt.plot(x, yhat, c='orange', label='regression line')\n",
    "ppt.show()"
   ]
  },
  {
   "cell_type": "code",
   "execution_count": null,
   "id": "9829e0da-15c7-4fd8-ac23-24c3dd973c09",
   "metadata": {},
   "outputs": [],
   "source": []
  }
 ],
 "metadata": {
  "kernelspec": {
   "display_name": "Python 3 (ipykernel)",
   "language": "python",
   "name": "python3"
  },
  "language_info": {
   "codemirror_mode": {
    "name": "ipython",
    "version": 3
   },
   "file_extension": ".py",
   "mimetype": "text/x-python",
   "name": "python",
   "nbconvert_exporter": "python",
   "pygments_lexer": "ipython3",
   "version": "3.12.1"
  }
 },
 "nbformat": 4,
 "nbformat_minor": 5
}
